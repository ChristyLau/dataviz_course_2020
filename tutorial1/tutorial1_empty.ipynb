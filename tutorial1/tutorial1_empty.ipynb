{
 "cells": [
  {
   "cell_type": "markdown",
   "metadata": {
    "button": false,
    "colab_type": "text",
    "id": "YETb0LFvlyxW",
    "new_sheet": false,
    "run_control": {
     "read_only": false
    }
   },
   "source": [
    "**Data Visualization course - winter semester 20/21 - FU Berlin**\n",
    "\n",
    "*Tutorials adapted from the [Information Visualization](https://infovis.fh-potsdam.de/tutorials/) course at the FH Potsdam*\n",
    "\n",
    "# Tutorial 1: Getting started\n",
    "\n",
    "During the tutorials you will be reading and writing **Python** code in **Jupyter** notebooks.\n",
    "Phew… Let's unpack this a bit!\n",
    "\n",
    "* 🐍 [Python](https://www.python.org) is a programming language that has gained considerable traction over the last years, in various contexts, including data science and the digital humanities. If you have never written any Python before, it would be useful for you to familiarize yourself with the language, its basic constructs and conventions. It is popular for its versatility and readability. Speaking of which…\n",
    "\n",
    "* 🪐 [Jupyter](https://jupyter.org) notebooks are hybrid documents that contain both code and markup. So it becomes easy to mix programming and documentation. What you are looking at now is a text cell written in the markup language Markdown, further below you see code cells written in the programming language Python (note the light grey background), which contain computable code! When viewing the notebooks on Colab or in Jupyter, you can double-click on any text cell to see its source. \n",
    "\n",
    "In this tutorial you will get a bit acquainted with Python and Jupyter, and get to know a few handy libraries for working with data."
   ]
  },
  {
   "cell_type": "markdown",
   "metadata": {
    "colab_type": "text",
    "id": "hIwGbqu6C-xs"
   },
   "source": [
    "## 🌍 Hello world \n",
    "\n",
    "Okay, enough words. Let's dive right into it and start with a classic:"
   ]
  },
  {
   "cell_type": "code",
   "execution_count": 1,
   "metadata": {
    "colab": {
     "base_uri": "https://localhost:8080/",
     "height": 34
    },
    "colab_type": "code",
    "executionInfo": {
     "elapsed": 646,
     "status": "ok",
     "timestamp": 1598360698873,
     "user": {
      "displayName": "Marian Dörk",
      "photoUrl": "https://lh3.googleusercontent.com/a-/AOh14GhqiajTdRS6NXELnqFzS3NNM3uxy6nUDGSMCjvAjw=s64",
      "userId": "05248840544598202773"
     },
     "user_tz": -120
    },
    "id": "R65CfhjLlN0x",
    "outputId": "6bc6e9c5-19a7-4415-f941-99efffd674c7"
   },
   "outputs": [
    {
     "name": "stdout",
     "output_type": "stream",
     "text": [
      "Hello world\n"
     ]
    }
   ],
   "source": [
    "print(\"Hello world\")"
   ]
  },
  {
   "cell_type": "markdown",
   "metadata": {
    "colab_type": "text",
    "id": "wxMjevMRMp5x"
   },
   "source": [
    "Above code cell can be executed (i.e., run) by clicking **Shift + Enter**.\n",
    "\n",
    "Of course we can set variables and extend them. Feel free to change the message:"
   ]
  },
  {
   "cell_type": "code",
   "execution_count": 2,
   "metadata": {
    "colab": {
     "base_uri": "https://localhost:8080/",
     "height": 37
    },
    "colab_type": "code",
    "executionInfo": {
     "elapsed": 898,
     "status": "ok",
     "timestamp": 1598360699140,
     "user": {
      "displayName": "Marian Dörk",
      "photoUrl": "https://lh3.googleusercontent.com/a-/AOh14GhqiajTdRS6NXELnqFzS3NNM3uxy6nUDGSMCjvAjw=s64",
      "userId": "05248840544598202773"
     },
     "user_tz": -120
    },
    "id": "Db3jY1JiMkSP",
    "outputId": "95671b01-c79a-4fb5-eaeb-5e05a9eed8e2"
   },
   "outputs": [
    {
     "data": {
      "text/plain": [
       "'hello world how are you!'"
      ]
     },
     "execution_count": 2,
     "metadata": {},
     "output_type": "execute_result"
    }
   ],
   "source": [
    "hello = \"hello world\"\n",
    "hello = hello + \" how are you!\"\n",
    "hello"
   ]
  },
  {
   "cell_type": "markdown",
   "metadata": {
    "colab_type": "text",
    "id": "wfXk4Bon1Yk5"
   },
   "source": [
    "Now that we have our first variable `hello` we can perform some string tricks, for example, we could change the capitalization:"
   ]
  },
  {
   "cell_type": "code",
   "execution_count": 3,
   "metadata": {
    "colab": {
     "base_uri": "https://localhost:8080/",
     "height": 37
    },
    "colab_type": "code",
    "executionInfo": {
     "elapsed": 889,
     "status": "ok",
     "timestamp": 1598360699141,
     "user": {
      "displayName": "Marian Dörk",
      "photoUrl": "https://lh3.googleusercontent.com/a-/AOh14GhqiajTdRS6NXELnqFzS3NNM3uxy6nUDGSMCjvAjw=s64",
      "userId": "05248840544598202773"
     },
     "user_tz": -120
    },
    "id": "083ukp0a5OOu",
    "outputId": "b5a8714c-d277-478e-8a42-c0f0481b4aba"
   },
   "outputs": [
    {
     "data": {
      "text/plain": [
       "'Hello World How Are You!'"
      ]
     },
     "execution_count": 3,
     "metadata": {},
     "output_type": "execute_result"
    }
   ],
   "source": [
    "hello.title()"
   ]
  },
  {
   "cell_type": "code",
   "execution_count": 4,
   "metadata": {
    "colab": {
     "base_uri": "https://localhost:8080/",
     "height": 37
    },
    "colab_type": "code",
    "executionInfo": {
     "elapsed": 878,
     "status": "ok",
     "timestamp": 1598360699141,
     "user": {
      "displayName": "Marian Dörk",
      "photoUrl": "https://lh3.googleusercontent.com/a-/AOh14GhqiajTdRS6NXELnqFzS3NNM3uxy6nUDGSMCjvAjw=s64",
      "userId": "05248840544598202773"
     },
     "user_tz": -120
    },
    "id": "VAoTCbnmWpyz",
    "outputId": "66da4ec9-ac44-480e-baab-09c1f6b7f156"
   },
   "outputs": [
    {
     "data": {
      "text/plain": [
       "'HELLO WORLD HOW ARE YOU!'"
      ]
     },
     "execution_count": 4,
     "metadata": {},
     "output_type": "execute_result"
    }
   ],
   "source": [
    "hello.upper()"
   ]
  },
  {
   "cell_type": "markdown",
   "metadata": {
    "colab_type": "text",
    "id": "9wDVk_w9BVe0"
   },
   "source": [
    "✏️ *Now it's your turn! (The pencil stands for a small hands-on activity!). Try some string manipulations yourself. To get some inspiration, have a look at the [string methods](https://docs.python.org/3/library/stdtypes.html?#string-methods) that Python has built-in:*"
   ]
  },
  {
   "cell_type": "code",
   "execution_count": null,
   "metadata": {
    "colab": {},
    "colab_type": "code",
    "id": "tFGcIMSPAZmQ"
   },
   "outputs": [],
   "source": []
  },
  {
   "cell_type": "markdown",
   "metadata": {
    "colab_type": "text",
    "id": "UjMp0emzDY19"
   },
   "source": [
    "## 📦 Let's get some packages\n",
    "\n",
    "Python itself provides only limited methods for working with more complex data. One of the main reasons for Python's (and  Jupyter's) popularity is the wide availability of software packages that provide powerful means for preparing, processing, presenting, and probing data. Throughout the tutorials you will get to know a few packages, some of them highly specific tools and others more general-purpose libraries. \n",
    "\n",
    "The Colab platform already has many packages ready to go. To use them in a notebook, you simply `import` them and assign an abbreviation after `as` to keep your code succinct. This is how you do it:"
   ]
  },
  {
   "cell_type": "code",
   "execution_count": 6,
   "metadata": {
    "colab": {},
    "colab_type": "code",
    "id": "xkOALOiiGs-G"
   },
   "outputs": [],
   "source": [
    "import pandas as pd"
   ]
  },
  {
   "cell_type": "markdown",
   "metadata": {
    "colab_type": "text",
    "id": "4GkVEmvxJFyC"
   },
   "source": [
    "Now the powerful `pandas` package is loaded and will answer to its nickname `pd`.\n",
    "\n",
    "🐼 [Pandas](https://pandas.pydata.org) really is a data analysis workhorse with the DataFrame data structure being one of its main muscles. You will learn to love it! With pandas you can do simple and sophisticated operations over small and sizable datasets. \n",
    "\n",
    "Let's create a little toy dataset to give you a sense of how it works:\n"
   ]
  },
  {
   "cell_type": "code",
   "execution_count": 8,
   "metadata": {
    "colab": {},
    "colab_type": "code",
    "id": "XFmCkuuENNGl"
   },
   "outputs": [],
   "source": [
    "covid_data = pd.read_csv(\"https://covid.ourworldindata.org/data/owid-covid-data.csv\")"
   ]
  },
  {
   "cell_type": "markdown",
   "metadata": {
    "colab_type": "text",
    "id": "IyYR9uk-YbV1"
   },
   "source": [
    "To check whether the DataFrame was created successfully, we can simply type the variable name `covid_data`, display its content as an ouput:"
   ]
  },
  {
   "cell_type": "code",
   "execution_count": 10,
   "metadata": {
    "colab": {
     "base_uri": "https://localhost:8080/",
     "height": 173
    },
    "colab_type": "code",
    "executionInfo": {
     "elapsed": 1133,
     "status": "ok",
     "timestamp": 1598360699412,
     "user": {
      "displayName": "Marian Dörk",
      "photoUrl": "https://lh3.googleusercontent.com/a-/AOh14GhqiajTdRS6NXELnqFzS3NNM3uxy6nUDGSMCjvAjw=s64",
      "userId": "05248840544598202773"
     },
     "user_tz": -120
    },
    "id": "NU1zjGHAYcTk",
    "outputId": "6a4c9434-023c-4f68-b6c5-6e383b914282"
   },
   "outputs": [
    {
     "data": {
      "text/html": [
       "<div>\n",
       "<style scoped>\n",
       "    .dataframe tbody tr th:only-of-type {\n",
       "        vertical-align: middle;\n",
       "    }\n",
       "\n",
       "    .dataframe tbody tr th {\n",
       "        vertical-align: top;\n",
       "    }\n",
       "\n",
       "    .dataframe thead th {\n",
       "        text-align: right;\n",
       "    }\n",
       "</style>\n",
       "<table border=\"1\" class=\"dataframe\">\n",
       "  <thead>\n",
       "    <tr style=\"text-align: right;\">\n",
       "      <th></th>\n",
       "      <th>iso_code</th>\n",
       "      <th>continent</th>\n",
       "      <th>location</th>\n",
       "      <th>date</th>\n",
       "      <th>total_cases</th>\n",
       "      <th>new_cases</th>\n",
       "      <th>new_cases_smoothed</th>\n",
       "      <th>total_deaths</th>\n",
       "      <th>new_deaths</th>\n",
       "      <th>new_deaths_smoothed</th>\n",
       "      <th>...</th>\n",
       "      <th>gdp_per_capita</th>\n",
       "      <th>extreme_poverty</th>\n",
       "      <th>cardiovasc_death_rate</th>\n",
       "      <th>diabetes_prevalence</th>\n",
       "      <th>female_smokers</th>\n",
       "      <th>male_smokers</th>\n",
       "      <th>handwashing_facilities</th>\n",
       "      <th>hospital_beds_per_thousand</th>\n",
       "      <th>life_expectancy</th>\n",
       "      <th>human_development_index</th>\n",
       "    </tr>\n",
       "  </thead>\n",
       "  <tbody>\n",
       "    <tr>\n",
       "      <th>0</th>\n",
       "      <td>AFG</td>\n",
       "      <td>Asia</td>\n",
       "      <td>Afghanistan</td>\n",
       "      <td>2019-12-31</td>\n",
       "      <td>0.0</td>\n",
       "      <td>0.0</td>\n",
       "      <td>NaN</td>\n",
       "      <td>0.0</td>\n",
       "      <td>0.0</td>\n",
       "      <td>NaN</td>\n",
       "      <td>...</td>\n",
       "      <td>1803.987</td>\n",
       "      <td>NaN</td>\n",
       "      <td>597.029</td>\n",
       "      <td>9.59</td>\n",
       "      <td>NaN</td>\n",
       "      <td>NaN</td>\n",
       "      <td>37.746</td>\n",
       "      <td>0.5</td>\n",
       "      <td>64.83</td>\n",
       "      <td>0.498</td>\n",
       "    </tr>\n",
       "    <tr>\n",
       "      <th>1</th>\n",
       "      <td>AFG</td>\n",
       "      <td>Asia</td>\n",
       "      <td>Afghanistan</td>\n",
       "      <td>2020-01-01</td>\n",
       "      <td>0.0</td>\n",
       "      <td>0.0</td>\n",
       "      <td>NaN</td>\n",
       "      <td>0.0</td>\n",
       "      <td>0.0</td>\n",
       "      <td>NaN</td>\n",
       "      <td>...</td>\n",
       "      <td>1803.987</td>\n",
       "      <td>NaN</td>\n",
       "      <td>597.029</td>\n",
       "      <td>9.59</td>\n",
       "      <td>NaN</td>\n",
       "      <td>NaN</td>\n",
       "      <td>37.746</td>\n",
       "      <td>0.5</td>\n",
       "      <td>64.83</td>\n",
       "      <td>0.498</td>\n",
       "    </tr>\n",
       "    <tr>\n",
       "      <th>2</th>\n",
       "      <td>AFG</td>\n",
       "      <td>Asia</td>\n",
       "      <td>Afghanistan</td>\n",
       "      <td>2020-01-02</td>\n",
       "      <td>0.0</td>\n",
       "      <td>0.0</td>\n",
       "      <td>NaN</td>\n",
       "      <td>0.0</td>\n",
       "      <td>0.0</td>\n",
       "      <td>NaN</td>\n",
       "      <td>...</td>\n",
       "      <td>1803.987</td>\n",
       "      <td>NaN</td>\n",
       "      <td>597.029</td>\n",
       "      <td>9.59</td>\n",
       "      <td>NaN</td>\n",
       "      <td>NaN</td>\n",
       "      <td>37.746</td>\n",
       "      <td>0.5</td>\n",
       "      <td>64.83</td>\n",
       "      <td>0.498</td>\n",
       "    </tr>\n",
       "    <tr>\n",
       "      <th>3</th>\n",
       "      <td>AFG</td>\n",
       "      <td>Asia</td>\n",
       "      <td>Afghanistan</td>\n",
       "      <td>2020-01-03</td>\n",
       "      <td>0.0</td>\n",
       "      <td>0.0</td>\n",
       "      <td>NaN</td>\n",
       "      <td>0.0</td>\n",
       "      <td>0.0</td>\n",
       "      <td>NaN</td>\n",
       "      <td>...</td>\n",
       "      <td>1803.987</td>\n",
       "      <td>NaN</td>\n",
       "      <td>597.029</td>\n",
       "      <td>9.59</td>\n",
       "      <td>NaN</td>\n",
       "      <td>NaN</td>\n",
       "      <td>37.746</td>\n",
       "      <td>0.5</td>\n",
       "      <td>64.83</td>\n",
       "      <td>0.498</td>\n",
       "    </tr>\n",
       "    <tr>\n",
       "      <th>4</th>\n",
       "      <td>AFG</td>\n",
       "      <td>Asia</td>\n",
       "      <td>Afghanistan</td>\n",
       "      <td>2020-01-04</td>\n",
       "      <td>0.0</td>\n",
       "      <td>0.0</td>\n",
       "      <td>NaN</td>\n",
       "      <td>0.0</td>\n",
       "      <td>0.0</td>\n",
       "      <td>NaN</td>\n",
       "      <td>...</td>\n",
       "      <td>1803.987</td>\n",
       "      <td>NaN</td>\n",
       "      <td>597.029</td>\n",
       "      <td>9.59</td>\n",
       "      <td>NaN</td>\n",
       "      <td>NaN</td>\n",
       "      <td>37.746</td>\n",
       "      <td>0.5</td>\n",
       "      <td>64.83</td>\n",
       "      <td>0.498</td>\n",
       "    </tr>\n",
       "    <tr>\n",
       "      <th>...</th>\n",
       "      <td>...</td>\n",
       "      <td>...</td>\n",
       "      <td>...</td>\n",
       "      <td>...</td>\n",
       "      <td>...</td>\n",
       "      <td>...</td>\n",
       "      <td>...</td>\n",
       "      <td>...</td>\n",
       "      <td>...</td>\n",
       "      <td>...</td>\n",
       "      <td>...</td>\n",
       "      <td>...</td>\n",
       "      <td>...</td>\n",
       "      <td>...</td>\n",
       "      <td>...</td>\n",
       "      <td>...</td>\n",
       "      <td>...</td>\n",
       "      <td>...</td>\n",
       "      <td>...</td>\n",
       "      <td>...</td>\n",
       "      <td>...</td>\n",
       "    </tr>\n",
       "    <tr>\n",
       "      <th>48589</th>\n",
       "      <td>NaN</td>\n",
       "      <td>NaN</td>\n",
       "      <td>International</td>\n",
       "      <td>2020-10-03</td>\n",
       "      <td>696.0</td>\n",
       "      <td>NaN</td>\n",
       "      <td>NaN</td>\n",
       "      <td>7.0</td>\n",
       "      <td>NaN</td>\n",
       "      <td>NaN</td>\n",
       "      <td>...</td>\n",
       "      <td>NaN</td>\n",
       "      <td>NaN</td>\n",
       "      <td>NaN</td>\n",
       "      <td>NaN</td>\n",
       "      <td>NaN</td>\n",
       "      <td>NaN</td>\n",
       "      <td>NaN</td>\n",
       "      <td>NaN</td>\n",
       "      <td>NaN</td>\n",
       "      <td>NaN</td>\n",
       "    </tr>\n",
       "    <tr>\n",
       "      <th>48590</th>\n",
       "      <td>NaN</td>\n",
       "      <td>NaN</td>\n",
       "      <td>International</td>\n",
       "      <td>2020-10-04</td>\n",
       "      <td>696.0</td>\n",
       "      <td>NaN</td>\n",
       "      <td>NaN</td>\n",
       "      <td>7.0</td>\n",
       "      <td>NaN</td>\n",
       "      <td>NaN</td>\n",
       "      <td>...</td>\n",
       "      <td>NaN</td>\n",
       "      <td>NaN</td>\n",
       "      <td>NaN</td>\n",
       "      <td>NaN</td>\n",
       "      <td>NaN</td>\n",
       "      <td>NaN</td>\n",
       "      <td>NaN</td>\n",
       "      <td>NaN</td>\n",
       "      <td>NaN</td>\n",
       "      <td>NaN</td>\n",
       "    </tr>\n",
       "    <tr>\n",
       "      <th>48591</th>\n",
       "      <td>NaN</td>\n",
       "      <td>NaN</td>\n",
       "      <td>International</td>\n",
       "      <td>2020-10-05</td>\n",
       "      <td>696.0</td>\n",
       "      <td>NaN</td>\n",
       "      <td>NaN</td>\n",
       "      <td>7.0</td>\n",
       "      <td>NaN</td>\n",
       "      <td>NaN</td>\n",
       "      <td>...</td>\n",
       "      <td>NaN</td>\n",
       "      <td>NaN</td>\n",
       "      <td>NaN</td>\n",
       "      <td>NaN</td>\n",
       "      <td>NaN</td>\n",
       "      <td>NaN</td>\n",
       "      <td>NaN</td>\n",
       "      <td>NaN</td>\n",
       "      <td>NaN</td>\n",
       "      <td>NaN</td>\n",
       "    </tr>\n",
       "    <tr>\n",
       "      <th>48592</th>\n",
       "      <td>NaN</td>\n",
       "      <td>NaN</td>\n",
       "      <td>International</td>\n",
       "      <td>2020-10-06</td>\n",
       "      <td>696.0</td>\n",
       "      <td>NaN</td>\n",
       "      <td>NaN</td>\n",
       "      <td>7.0</td>\n",
       "      <td>NaN</td>\n",
       "      <td>NaN</td>\n",
       "      <td>...</td>\n",
       "      <td>NaN</td>\n",
       "      <td>NaN</td>\n",
       "      <td>NaN</td>\n",
       "      <td>NaN</td>\n",
       "      <td>NaN</td>\n",
       "      <td>NaN</td>\n",
       "      <td>NaN</td>\n",
       "      <td>NaN</td>\n",
       "      <td>NaN</td>\n",
       "      <td>NaN</td>\n",
       "    </tr>\n",
       "    <tr>\n",
       "      <th>48593</th>\n",
       "      <td>NaN</td>\n",
       "      <td>NaN</td>\n",
       "      <td>International</td>\n",
       "      <td>2020-10-07</td>\n",
       "      <td>696.0</td>\n",
       "      <td>NaN</td>\n",
       "      <td>NaN</td>\n",
       "      <td>7.0</td>\n",
       "      <td>NaN</td>\n",
       "      <td>NaN</td>\n",
       "      <td>...</td>\n",
       "      <td>NaN</td>\n",
       "      <td>NaN</td>\n",
       "      <td>NaN</td>\n",
       "      <td>NaN</td>\n",
       "      <td>NaN</td>\n",
       "      <td>NaN</td>\n",
       "      <td>NaN</td>\n",
       "      <td>NaN</td>\n",
       "      <td>NaN</td>\n",
       "      <td>NaN</td>\n",
       "    </tr>\n",
       "  </tbody>\n",
       "</table>\n",
       "<p>48594 rows × 41 columns</p>\n",
       "</div>"
      ],
      "text/plain": [
       "      iso_code continent       location        date  total_cases  new_cases  \\\n",
       "0          AFG      Asia    Afghanistan  2019-12-31          0.0        0.0   \n",
       "1          AFG      Asia    Afghanistan  2020-01-01          0.0        0.0   \n",
       "2          AFG      Asia    Afghanistan  2020-01-02          0.0        0.0   \n",
       "3          AFG      Asia    Afghanistan  2020-01-03          0.0        0.0   \n",
       "4          AFG      Asia    Afghanistan  2020-01-04          0.0        0.0   \n",
       "...        ...       ...            ...         ...          ...        ...   \n",
       "48589      NaN       NaN  International  2020-10-03        696.0        NaN   \n",
       "48590      NaN       NaN  International  2020-10-04        696.0        NaN   \n",
       "48591      NaN       NaN  International  2020-10-05        696.0        NaN   \n",
       "48592      NaN       NaN  International  2020-10-06        696.0        NaN   \n",
       "48593      NaN       NaN  International  2020-10-07        696.0        NaN   \n",
       "\n",
       "       new_cases_smoothed  total_deaths  new_deaths  new_deaths_smoothed  ...  \\\n",
       "0                     NaN           0.0         0.0                  NaN  ...   \n",
       "1                     NaN           0.0         0.0                  NaN  ...   \n",
       "2                     NaN           0.0         0.0                  NaN  ...   \n",
       "3                     NaN           0.0         0.0                  NaN  ...   \n",
       "4                     NaN           0.0         0.0                  NaN  ...   \n",
       "...                   ...           ...         ...                  ...  ...   \n",
       "48589                 NaN           7.0         NaN                  NaN  ...   \n",
       "48590                 NaN           7.0         NaN                  NaN  ...   \n",
       "48591                 NaN           7.0         NaN                  NaN  ...   \n",
       "48592                 NaN           7.0         NaN                  NaN  ...   \n",
       "48593                 NaN           7.0         NaN                  NaN  ...   \n",
       "\n",
       "       gdp_per_capita  extreme_poverty  cardiovasc_death_rate  \\\n",
       "0            1803.987              NaN                597.029   \n",
       "1            1803.987              NaN                597.029   \n",
       "2            1803.987              NaN                597.029   \n",
       "3            1803.987              NaN                597.029   \n",
       "4            1803.987              NaN                597.029   \n",
       "...               ...              ...                    ...   \n",
       "48589             NaN              NaN                    NaN   \n",
       "48590             NaN              NaN                    NaN   \n",
       "48591             NaN              NaN                    NaN   \n",
       "48592             NaN              NaN                    NaN   \n",
       "48593             NaN              NaN                    NaN   \n",
       "\n",
       "       diabetes_prevalence  female_smokers  male_smokers  \\\n",
       "0                     9.59             NaN           NaN   \n",
       "1                     9.59             NaN           NaN   \n",
       "2                     9.59             NaN           NaN   \n",
       "3                     9.59             NaN           NaN   \n",
       "4                     9.59             NaN           NaN   \n",
       "...                    ...             ...           ...   \n",
       "48589                  NaN             NaN           NaN   \n",
       "48590                  NaN             NaN           NaN   \n",
       "48591                  NaN             NaN           NaN   \n",
       "48592                  NaN             NaN           NaN   \n",
       "48593                  NaN             NaN           NaN   \n",
       "\n",
       "       handwashing_facilities  hospital_beds_per_thousand  life_expectancy  \\\n",
       "0                      37.746                         0.5            64.83   \n",
       "1                      37.746                         0.5            64.83   \n",
       "2                      37.746                         0.5            64.83   \n",
       "3                      37.746                         0.5            64.83   \n",
       "4                      37.746                         0.5            64.83   \n",
       "...                       ...                         ...              ...   \n",
       "48589                     NaN                         NaN              NaN   \n",
       "48590                     NaN                         NaN              NaN   \n",
       "48591                     NaN                         NaN              NaN   \n",
       "48592                     NaN                         NaN              NaN   \n",
       "48593                     NaN                         NaN              NaN   \n",
       "\n",
       "       human_development_index  \n",
       "0                        0.498  \n",
       "1                        0.498  \n",
       "2                        0.498  \n",
       "3                        0.498  \n",
       "4                        0.498  \n",
       "...                        ...  \n",
       "48589                      NaN  \n",
       "48590                      NaN  \n",
       "48591                      NaN  \n",
       "48592                      NaN  \n",
       "48593                      NaN  \n",
       "\n",
       "[48594 rows x 41 columns]"
      ]
     },
     "execution_count": 10,
     "metadata": {},
     "output_type": "execute_result"
    }
   ],
   "source": [
    "covid_data"
   ]
  },
  {
   "cell_type": "code",
   "execution_count": 11,
   "metadata": {},
   "outputs": [
    {
     "name": "stdout",
     "output_type": "stream",
     "text": [
      "<class 'pandas.core.frame.DataFrame'>\n",
      "RangeIndex: 48594 entries, 0 to 48593\n",
      "Data columns (total 41 columns):\n",
      " #   Column                           Non-Null Count  Dtype  \n",
      "---  ------                           --------------  -----  \n",
      " 0   iso_code                         48312 non-null  object \n",
      " 1   continent                        48030 non-null  object \n",
      " 2   location                         48594 non-null  object \n",
      " 3   date                             48594 non-null  object \n",
      " 4   total_cases                      47979 non-null  float64\n",
      " 5   new_cases                        47761 non-null  float64\n",
      " 6   new_cases_smoothed               46979 non-null  float64\n",
      " 7   total_deaths                     47979 non-null  float64\n",
      " 8   new_deaths                       47761 non-null  float64\n",
      " 9   new_deaths_smoothed              46979 non-null  float64\n",
      " 10  total_cases_per_million          47697 non-null  float64\n",
      " 11  new_cases_per_million            47697 non-null  float64\n",
      " 12  new_cases_smoothed_per_million   46914 non-null  float64\n",
      " 13  total_deaths_per_million         47697 non-null  float64\n",
      " 14  new_deaths_per_million           47697 non-null  float64\n",
      " 15  new_deaths_smoothed_per_million  46914 non-null  float64\n",
      " 16  new_tests                        17464 non-null  float64\n",
      " 17  total_tests                      17885 non-null  float64\n",
      " 18  total_tests_per_thousand         17885 non-null  float64\n",
      " 19  new_tests_per_thousand           17464 non-null  float64\n",
      " 20  new_tests_smoothed               19712 non-null  float64\n",
      " 21  new_tests_smoothed_per_thousand  19712 non-null  float64\n",
      " 22  tests_per_case                   18151 non-null  float64\n",
      " 23  positive_rate                    18593 non-null  float64\n",
      " 24  tests_units                      20552 non-null  object \n",
      " 25  stringency_index                 40351 non-null  float64\n",
      " 26  population                       48312 non-null  float64\n",
      " 27  population_density               46095 non-null  float64\n",
      " 28  median_age                       43311 non-null  float64\n",
      " 29  aged_65_older                    42665 non-null  float64\n",
      " 30  aged_70_older                    43086 non-null  float64\n",
      " 31  gdp_per_capita                   42747 non-null  float64\n",
      " 32  extreme_poverty                  28522 non-null  float64\n",
      " 33  cardiovasc_death_rate            43319 non-null  float64\n",
      " 34  diabetes_prevalence              44851 non-null  float64\n",
      " 35  female_smokers                   33900 non-null  float64\n",
      " 36  male_smokers                     33469 non-null  float64\n",
      " 37  handwashing_facilities           20319 non-null  float64\n",
      " 38  hospital_beds_per_thousand       39110 non-null  float64\n",
      " 39  life_expectancy                  47700 non-null  float64\n",
      " 40  human_development_index          41791 non-null  float64\n",
      "dtypes: float64(36), object(5)\n",
      "memory usage: 15.2+ MB\n"
     ]
    }
   ],
   "source": [
    "covid_data.info()"
   ]
  },
  {
   "cell_type": "markdown",
   "metadata": {
    "colab_type": "text",
    "id": "cysxsu-3j3ms"
   },
   "source": [
    "The output generated by a code cell is printed right below it. In the case of a DataFrame we get a table. By convention, the rows are the data entries and the columns are the data dimensions. The first column on the left side is the index.\n",
    "\n",
    "Now let's do something with our newly created DataFrame. For example, we could get the largest amount of new cases using the ```max``` method."
   ]
  },
  {
   "cell_type": "code",
   "execution_count": 14,
   "metadata": {
    "colab": {
     "base_uri": "https://localhost:8080/",
     "height": 34
    },
    "colab_type": "code",
    "executionInfo": {
     "elapsed": 1123,
     "status": "ok",
     "timestamp": 1598360699413,
     "user": {
      "displayName": "Marian Dörk",
      "photoUrl": "https://lh3.googleusercontent.com/a-/AOh14GhqiajTdRS6NXELnqFzS3NNM3uxy6nUDGSMCjvAjw=s64",
      "userId": "05248840544598202773"
     },
     "user_tz": -120
    },
    "id": "KwgDbPOKVuEK",
    "outputId": "e1104602-c216-423b-a308-7aa5a0b2e844"
   },
   "outputs": [
    {
     "data": {
      "text/plain": [
       "35848254.0"
      ]
     },
     "execution_count": 14,
     "metadata": {},
     "output_type": "execute_result"
    }
   ],
   "source": [
    "covid_data.total_cases.max()"
   ]
  },
  {
   "cell_type": "markdown",
   "metadata": {
    "colab_type": "text",
    "id": "cv_uzWGvBm4N"
   },
   "source": [
    "✏️ *What would it take to get the highest positive rate?*"
   ]
  },
  {
   "cell_type": "code",
   "execution_count": null,
   "metadata": {
    "colab": {},
    "colab_type": "code",
    "id": "2Co8p4WfBwKV"
   },
   "outputs": [],
   "source": []
  },
  {
   "cell_type": "markdown",
   "metadata": {
    "colab_type": "text",
    "id": "-FiavujLB14l"
   },
   "source": [
    "To get the entry belonging to the biggest amount of new cases, one needs to **loc**ate it via its index:"
   ]
  },
  {
   "cell_type": "code",
   "execution_count": 15,
   "metadata": {
    "colab": {
     "base_uri": "https://localhost:8080/",
     "height": 102
    },
    "colab_type": "code",
    "executionInfo": {
     "elapsed": 1111,
     "status": "ok",
     "timestamp": 1598360699414,
     "user": {
      "displayName": "Marian Dörk",
      "photoUrl": "https://lh3.googleusercontent.com/a-/AOh14GhqiajTdRS6NXELnqFzS3NNM3uxy6nUDGSMCjvAjw=s64",
      "userId": "05248840544598202773"
     },
     "user_tz": -120
    },
    "id": "k2jxlpQYA1v9",
    "outputId": "1f5f9818-d4e3-4cce-8786-aee3c5d535bd"
   },
   "outputs": [
    {
     "data": {
      "text/plain": [
       "iso_code                              OWID_WRL\n",
       "continent                                  NaN\n",
       "location                                 World\n",
       "date                                2020-10-07\n",
       "total_cases                        3.58483e+07\n",
       "new_cases                               308788\n",
       "new_cases_smoothed                      302387\n",
       "total_deaths                       1.04818e+06\n",
       "new_deaths                                5523\n",
       "new_deaths_smoothed                    5580.71\n",
       "total_cases_per_million                   4599\n",
       "new_cases_per_million                   39.615\n",
       "new_cases_smoothed_per_million          38.793\n",
       "total_deaths_per_million               134.472\n",
       "new_deaths_per_million                   0.709\n",
       "new_deaths_smoothed_per_million          0.716\n",
       "new_tests                                  NaN\n",
       "total_tests                                NaN\n",
       "total_tests_per_thousand                   NaN\n",
       "new_tests_per_thousand                     NaN\n",
       "new_tests_smoothed                         NaN\n",
       "new_tests_smoothed_per_thousand            NaN\n",
       "tests_per_case                             NaN\n",
       "positive_rate                              NaN\n",
       "tests_units                                NaN\n",
       "stringency_index                           NaN\n",
       "population                          7.7948e+09\n",
       "population_density                      58.045\n",
       "median_age                                30.9\n",
       "aged_65_older                            8.696\n",
       "aged_70_older                            5.355\n",
       "gdp_per_capita                         15469.2\n",
       "extreme_poverty                             10\n",
       "cardiovasc_death_rate                   233.07\n",
       "diabetes_prevalence                       8.51\n",
       "female_smokers                           6.434\n",
       "male_smokers                            34.635\n",
       "handwashing_facilities                   60.13\n",
       "hospital_beds_per_thousand               2.705\n",
       "life_expectancy                          72.58\n",
       "human_development_index                    NaN\n",
       "Name: 48311, dtype: object"
      ]
     },
     "execution_count": 15,
     "metadata": {},
     "output_type": "execute_result"
    }
   ],
   "source": [
    "covid_data.loc[ covid_data.total_cases.idxmax() ]"
   ]
  },
  {
   "cell_type": "markdown",
   "metadata": {
    "colab_type": "text",
    "id": "rsKefF68DXNs"
   },
   "source": [
    "We can also calculate averages for each numeric column by selecting them first and then calculating the mean:"
   ]
  },
  {
   "cell_type": "code",
   "execution_count": 16,
   "metadata": {
    "colab": {
     "base_uri": "https://localhost:8080/",
     "height": 85
    },
    "colab_type": "code",
    "executionInfo": {
     "elapsed": 1102,
     "status": "ok",
     "timestamp": 1598360699415,
     "user": {
      "displayName": "Marian Dörk",
      "photoUrl": "https://lh3.googleusercontent.com/a-/AOh14GhqiajTdRS6NXELnqFzS3NNM3uxy6nUDGSMCjvAjw=s64",
      "userId": "05248840544598202773"
     },
     "user_tz": -120
    },
    "id": "KEInp_PmVroj",
    "outputId": "a35b6be0-da22-460d-8e4c-dd440ea49763"
   },
   "outputs": [
    {
     "data": {
      "text/plain": [
       "total_cases    111309.939203\n",
       "new_cases        1501.151735\n",
       "new_deaths         43.892758\n",
       "dtype: float64"
      ]
     },
     "execution_count": 16,
     "metadata": {},
     "output_type": "execute_result"
    }
   ],
   "source": [
    "covid_data[['total_cases', 'new_cases', 'new_deaths']].mean(axis=0)"
   ]
  },
  {
   "cell_type": "markdown",
   "metadata": {
    "colab_type": "text",
    "id": "7-ouzVpYZkyD"
   },
   "source": [
    "There is so much more to discover, some of which you will do over the course of the tutorials. The [DataFrame page](https://pandas.pydata.org/pandas-docs/stable/reference/api/pandas.DataFrame.html) in the pandas reference gives a complete (i.e., long) list of all methods provided by the data structure. \n",
    "\n",
    "If you want to do something specific, but do not know the particular method name, a well formulated Google search query can help wonders. In particular, the discussions on Stack Overflow contain various helpful entries. Quite often it is the case that somebody else has had a similar problem that you're trying to solve. The key then is to precisely formulate your query. For this it is good to understand the basic terminology of Python, pandas, etc."
   ]
  },
  {
   "cell_type": "markdown",
   "metadata": {
    "colab_type": "text",
    "id": "RKg7MCJyDpKY"
   },
   "source": [
    "## 🌠 Let's reach to the stars \n",
    "\n",
    "Altair is the brightest star in the Aquila constellation and it is also the name of a versatile [visualization library](https://altair-viz.github.io/)  specifically created for Python based on the popular Vega-Lite visualization grammar. \n",
    "\n",
    "With 📊Altair we can create charts and visualizations in little time. \n",
    "\n",
    "In order to put Altair to use, we first have to import it and give it a short name:\n"
   ]
  },
  {
   "cell_type": "code",
   "execution_count": 17,
   "metadata": {
    "colab": {},
    "colab_type": "code",
    "id": "GKERU_uFKoi4"
   },
   "outputs": [],
   "source": [
    "import altair as alt"
   ]
  },
  {
   "cell_type": "markdown",
   "metadata": {},
   "source": [
    "First lets prepare the data. Since Altair only supports dataframes up to 5000 rows, we need a bit of work to get our data in form! So lets by start by aggregating our data."
   ]
  },
  {
   "cell_type": "code",
   "execution_count": 18,
   "metadata": {},
   "outputs": [],
   "source": [
    "data = covid_data.groupby('continent').sum().reset_index()"
   ]
  },
  {
   "cell_type": "markdown",
   "metadata": {},
   "source": [
    "First we call ```groupby``` to group our data by the ```continent``` column, then we sum the values in each group. The result of this computation has the grouped-by values in its index. But since Altair does not support the creation of axes out of indexes we reset the index to a column by executing ```reset_index``` on the resulting dataframe."
   ]
  },
  {
   "cell_type": "code",
   "execution_count": 25,
   "metadata": {
    "colab": {
     "base_uri": "https://localhost:8080/",
     "height": 416
    },
    "colab_type": "code",
    "executionInfo": {
     "elapsed": 1581,
     "status": "ok",
     "timestamp": 1598360699907,
     "user": {
      "displayName": "Marian Dörk",
      "photoUrl": "https://lh3.googleusercontent.com/a-/AOh14GhqiajTdRS6NXELnqFzS3NNM3uxy6nUDGSMCjvAjw=s64",
      "userId": "05248840544598202773"
     },
     "user_tz": -120
    },
    "id": "5Rf-nuRi1oyC",
    "outputId": "a8039def-b166-4a98-d0f0-15c1b0326bc2"
   },
   "outputs": [
    {
     "data": {
      "text/html": [
       "\n",
       "<div id=\"altair-viz-7b214e552c56497aa909cf20bec686f3\"></div>\n",
       "<script type=\"text/javascript\">\n",
       "  (function(spec, embedOpt){\n",
       "    let outputDiv = document.currentScript.previousElementSibling;\n",
       "    if (outputDiv.id !== \"altair-viz-7b214e552c56497aa909cf20bec686f3\") {\n",
       "      outputDiv = document.getElementById(\"altair-viz-7b214e552c56497aa909cf20bec686f3\");\n",
       "    }\n",
       "    const paths = {\n",
       "      \"vega\": \"https://cdn.jsdelivr.net/npm//vega@5?noext\",\n",
       "      \"vega-lib\": \"https://cdn.jsdelivr.net/npm//vega-lib?noext\",\n",
       "      \"vega-lite\": \"https://cdn.jsdelivr.net/npm//vega-lite@4.8.1?noext\",\n",
       "      \"vega-embed\": \"https://cdn.jsdelivr.net/npm//vega-embed@6?noext\",\n",
       "    };\n",
       "\n",
       "    function loadScript(lib) {\n",
       "      return new Promise(function(resolve, reject) {\n",
       "        var s = document.createElement('script');\n",
       "        s.src = paths[lib];\n",
       "        s.async = true;\n",
       "        s.onload = () => resolve(paths[lib]);\n",
       "        s.onerror = () => reject(`Error loading script: ${paths[lib]}`);\n",
       "        document.getElementsByTagName(\"head\")[0].appendChild(s);\n",
       "      });\n",
       "    }\n",
       "\n",
       "    function showError(err) {\n",
       "      outputDiv.innerHTML = `<div class=\"error\" style=\"color:red;\">${err}</div>`;\n",
       "      throw err;\n",
       "    }\n",
       "\n",
       "    function displayChart(vegaEmbed) {\n",
       "      vegaEmbed(outputDiv, spec, embedOpt)\n",
       "        .catch(err => showError(`Javascript Error: ${err.message}<br>This usually means there's a typo in your chart specification. See the javascript console for the full traceback.`));\n",
       "    }\n",
       "\n",
       "    if(typeof define === \"function\" && define.amd) {\n",
       "      requirejs.config({paths});\n",
       "      require([\"vega-embed\"], displayChart, err => showError(`Error loading script: ${err.message}`));\n",
       "    } else if (typeof vegaEmbed === \"function\") {\n",
       "      displayChart(vegaEmbed);\n",
       "    } else {\n",
       "      loadScript(\"vega\")\n",
       "        .then(() => loadScript(\"vega-lite\"))\n",
       "        .then(() => loadScript(\"vega-embed\"))\n",
       "        .catch(showError)\n",
       "        .then(() => displayChart(vegaEmbed));\n",
       "    }\n",
       "  })({\"config\": {\"view\": {\"continuousWidth\": 400, \"continuousHeight\": 300}}, \"data\": {\"name\": \"data-a8481976f7f8e8019e51aeecae486214\"}, \"mark\": \"bar\", \"encoding\": {\"x\": {\"type\": \"nominal\", \"field\": \"continent\"}, \"y\": {\"type\": \"quantitative\", \"field\": \"new_cases\"}}, \"$schema\": \"https://vega.github.io/schema/vega-lite/v4.8.1.json\", \"datasets\": {\"data-a8481976f7f8e8019e51aeecae486214\": [{\"continent\": \"Africa\", \"total_cases\": 116586970.0, \"new_cases\": 1528213.0, \"new_cases_smoothed\": 1506343.9119999951, \"total_deaths\": 2776242.0, \"new_deaths\": 36828.0, \"new_deaths_smoothed\": 36349.507999999085, \"total_cases_per_million\": 6793252.836999945, \"new_cases_per_million\": 87679.03599999957, \"new_cases_smoothed_per_million\": 86052.83500000006, \"total_deaths_per_million\": 112211.03399999914, \"new_deaths_per_million\": 1458.8470000000018, \"new_deaths_smoothed_per_million\": 1430.0340000000024, \"new_tests\": 11562366.0, \"total_tests\": 903730267.0, \"total_tests_per_thousand\": 25956.345000000034, \"new_tests_per_thousand\": 355.8250000000006, \"new_tests_smoothed\": 12066415.0, \"new_tests_smoothed_per_thousand\": 368.4239999999993, \"tests_per_case\": 200656.55999999974, \"positive_rate\": 267.32699999999807, \"stringency_index\": 623349.530000008, \"population\": 305967652460.0, \"population_density\": 1117749.1179999951, \"median_age\": 242725.80000001407, \"aged_65_older\": 41660.06399999893, \"aged_70_older\": 24992.10100000138, \"gdp_per_capita\": 62091820.66899947, \"extreme_poverty\": 280471.4000000114, \"cardiovasc_death_rate\": 3227932.506999888, \"diabetes_prevalence\": 63932.349999998114, \"female_smokers\": 19052.699999999906, \"male_smokers\": 207556.30000000822, \"handwashing_facilities\": 243831.29100001074, \"hospital_beds_per_thousand\": 12624.180000000031, \"life_expectancy\": 733077.629999952, \"human_development_index\": 6040.869999999565}, {\"continent\": \"Asia\", \"total_cases\": 704024299.0, \"new_cases\": 11337018.0, \"new_cases_smoothed\": 11016295.23199992, \"total_deaths\": 15012011.0, \"new_deaths\": 205231.0, \"new_deaths_smoothed\": 200217.09300000322, \"total_cases_per_million\": 25406708.93500012, \"new_cases_per_million\": 314848.720999999, \"new_cases_smoothed_per_million\": 307417.2830000003, \"total_deaths_per_million\": 230849.07699999577, \"new_deaths_per_million\": 2925.6810000000232, \"new_deaths_smoothed_per_million\": 2851.5309999999836, \"new_tests\": 139969319.0, \"total_tests\": 8500853032.0, \"total_tests_per_thousand\": 304884.6890000011, \"new_tests_per_thousand\": 3753.1689999999894, \"new_tests_smoothed\": 145355515.0, \"new_tests_smoothed_per_thousand\": 4424.997999999986, \"tests_per_case\": 1020535.2109999999, \"positive_rate\": 331.06299999999453, \"stringency_index\": 612339.2199999965, \"population\": 1261928577505.0, \"population_density\": 5388523.6710003065, \"median_age\": 355604.79999999475, \"aged_65_older\": 73463.40700000478, \"aged_70_older\": 47620.61499999842, \"gdp_per_capita\": 258387024.8690066, \"extreme_poverty\": 36837.40000000018, \"cardiovasc_death_rate\": 3278638.258999909, \"diabetes_prevalence\": 105263.30000000543, \"female_smokers\": 46263.70000000185, \"male_smokers\": 382875.0000000295, \"handwashing_facilities\": 434879.3390000288, \"hospital_beds_per_thousand\": 31265.81999999992, \"life_expectancy\": 865783.6399999462, \"human_development_index\": 8278.889999999696}, {\"continent\": \"Europe\", \"total_cases\": 486929312.0, \"new_cases\": 5502249.0, \"new_cases_smoothed\": 5270193.103000017, \"total_deaths\": 33336725.0, \"new_deaths\": 227041.0, \"new_deaths_smoothed\": 224816.17499999775, \"total_cases_per_million\": 37464602.83999966, \"new_cases_per_million\": 392540.3600000028, \"new_cases_smoothed_per_million\": 374569.7710000015, \"total_deaths_per_million\": 1669018.4049999919, \"new_deaths_per_million\": 11704.103999999968, \"new_deaths_smoothed_per_million\": 11568.38299999987, \"new_tests\": 119770378.0, \"total_tests\": 9024671322.0, \"total_tests_per_thousand\": 564482.3010000014, \"new_tests_per_thousand\": 7324.455000000016, \"new_tests_smoothed\": 149075772.0, \"new_tests_smoothed_per_thousand\": 7993.767000000007, \"tests_per_case\": 984902.4359999986, \"positive_rate\": 217.63599999999803, \"stringency_index\": 475139.23999999743, \"population\": 201750700783.0, \"population_density\": 8011748.313000213, \"median_age\": 433826.19999999413, \"aged_65_older\": 183498.1379999955, \"aged_70_older\": 119447.3310000019, \"gdp_per_capita\": 373856854.93001163, \"extreme_poverty\": 7142.799999999789, \"cardiovasc_death_rate\": 2350490.599999976, \"diabetes_prevalence\": 72474.30999999573, \"female_smokers\": 239430.2999999926, \"male_smokers\": 357987.8000000322, \"handwashing_facilities\": 60927.92699999934, \"hospital_beds_per_thousand\": 57318.5600000022, \"life_expectancy\": 968868.8700000511, \"human_development_index\": 9322.715999999946}, {\"continent\": \"North America\", \"total_cases\": 769956775.0, \"new_cases\": 9060729.0, \"new_cases_smoothed\": 8898424.917999985, \"total_deaths\": 32517146.0, \"new_deaths\": 314021.0, \"new_deaths_smoothed\": 310897.83899999846, \"total_cases_per_million\": 16201939.253000095, \"new_cases_per_million\": 256511.20000000022, \"new_cases_smoothed_per_million\": 249855.00799999892, \"total_deaths_per_million\": 487757.8580000034, \"new_deaths_per_million\": 5453.124000000021, \"new_deaths_smoothed_per_million\": 5317.033999999994, \"new_tests\": 130269780.0, \"total_tests\": 9644872591.0, \"total_tests_per_thousand\": 65233.010000000075, \"new_tests_per_thousand\": 884.8659999999992, \"new_tests_smoothed\": 128058680.0, \"new_tests_smoothed_per_thousand\": 879.3079999999986, \"tests_per_case\": 64567.50299999994, \"positive_rate\": 202.85299999999975, \"stringency_index\": 335332.1899999972, \"population\": 160447816004.0, \"population_density\": 1848973.4049999167, \"median_age\": 179851.29999999906, \"aged_65_older\": 54336.22100000103, \"aged_70_older\": 34051.8159999993, \"gdp_per_capita\": 129443142.88599366, \"extreme_poverty\": 13354.500000000507, \"cardiovasc_death_rate\": 1096936.7749999885, \"diabetes_prevalence\": 71519.70999999755, \"female_smokers\": 22170.499999999483, \"male_smokers\": 61484.39999999962, \"handwashing_facilities\": 218820.5569999935, \"hospital_beds_per_thousand\": 11517.319999999847, \"life_expectancy\": 584018.2099999759, \"human_development_index\": 3773.148000000006}, {\"continent\": \"Oceania\", \"total_cases\": 3144243.0, \"new_cases\": 34400.0, \"new_cases_smoothed\": 33865.211999999745, \"total_deaths\": 60987.0, \"new_deaths\": 995.0, \"new_deaths_smoothed\": 985.0440000000001, \"total_cases_per_million\": 1224501.9750000052, \"new_cases_per_million\": 27499.081999999973, \"new_cases_smoothed_per_million\": 25281.398999999972, \"total_deaths_per_million\": 21715.963999999858, \"new_deaths_per_million\": 435.94200000000035, \"new_deaths_smoothed_per_million\": 396.9010000000006, \"new_tests\": 7080271.0, \"total_tests\": 589340889.0, \"total_tests_per_thousand\": 38213.74099999998, \"new_tests_per_thousand\": 454.9860000000004, \"new_tests_smoothed\": 8550621.0, \"new_tests_smoothed_per_thousand\": 511.6019999999999, \"tests_per_case\": 790462.3670000001, \"positive_rate\": 2.3429999999999898, \"stringency_index\": 63553.150000000445, \"population\": 10734756002.0, \"population_density\": 125604.09600000159, \"median_age\": 52851.10000000079, \"aged_65_older\": 16544.720000000063, \"aged_70_older\": 10207.274999999863, \"gdp_per_capita\": 25728755.63999931, \"extreme_poverty\": 493.7999999999966, \"cardiovasc_death_rate\": 383883.2920000039, \"diabetes_prevalence\": 24565.240000000907, \"female_smokers\": 15133.499999999869, \"male_smokers\": 28081.799999999967, \"handwashing_facilities\": 0.0, \"hospital_beds_per_thousand\": 2398.4999999999923, \"life_expectancy\": 138959.32000000108, \"human_development_index\": 819.4679999999963}, {\"continent\": \"South America\", \"total_cases\": 589000674.0, \"new_cases\": 8384949.0, \"new_cases_smoothed\": 8231029.457000004, \"total_deaths\": 20146454.0, \"new_deaths\": 264058.0, \"new_deaths_smoothed\": 259760.22600000122, \"total_cases_per_million\": 11173098.782000028, \"new_cases_per_million\": 154645.0450000008, \"new_cases_smoothed_per_million\": 150992.11299999975, \"total_deaths_per_million\": 362346.0760000011, \"new_deaths_per_million\": 5222.338999999972, \"new_deaths_smoothed_per_million\": 5124.239000000008, \"new_tests\": 10564299.0, \"total_tests\": 751640126.0, \"total_tests_per_thousand\": 31426.34299999999, \"new_tests_per_thousand\": 453.0680000000005, \"new_tests_smoothed\": 14654500.0, \"new_tests_smoothed_per_thousand\": 475.823999999999, \"tests_per_case\": 48365.05899999998, \"positive_rate\": 180.21299999999934, \"stringency_index\": 199262.46999999936, \"population\": 109178708409.0, \"population_density\": 69258.8059999986, \"median_age\": 82012.70000000141, \"aged_65_older\": 22442.640000000392, \"aged_70_older\": 14047.905000000226, \"gdp_per_capita\": 37435178.720000334, \"extreme_poverty\": 6034.300000000167, \"cardiovasc_death_rate\": 500306.1009999959, \"diabetes_prevalence\": 20886.44000000063, \"female_smokers\": 22279.700000000485, \"male_smokers\": 44528.49999999995, \"handwashing_facilities\": 89035.96299999865, \"hospital_beds_per_thousand\": 5642.240000000227, \"life_expectancy\": 219004.43999999342, \"human_development_index\": 2037.614999999987}]}}, {\"mode\": \"vega-lite\"});\n",
       "</script>"
      ],
      "text/plain": [
       "alt.Chart(...)"
      ]
     },
     "execution_count": 25,
     "metadata": {},
     "output_type": "execute_result"
    }
   ],
   "source": [
    "alt.Chart(data).mark_bar().encode(x='continent', y='new_cases')"
   ]
  },
  {
   "cell_type": "markdown",
   "metadata": {
    "colab_type": "text",
    "id": "esZqfT7CCsz2"
   },
   "source": [
    "✏️ *Change above chart into a horizontal bar chart of new cases:* "
   ]
  },
  {
   "cell_type": "code",
   "execution_count": null,
   "metadata": {
    "colab": {},
    "colab_type": "code",
    "id": "Kr-2sFJtC81k"
   },
   "outputs": [],
   "source": []
  },
  {
   "cell_type": "markdown",
   "metadata": {
    "colab_type": "text",
    "id": "gdaXDekQf5fS"
   },
   "source": [
    "With a few more specifications, we can give this barchart some tooltips and an aspect ratio of a square:"
   ]
  },
  {
   "cell_type": "code",
   "execution_count": 23,
   "metadata": {
    "colab": {
     "base_uri": "https://localhost:8080/",
     "height": 316
    },
    "colab_type": "code",
    "executionInfo": {
     "elapsed": 1569,
     "status": "ok",
     "timestamp": 1598360699909,
     "user": {
      "displayName": "Marian Dörk",
      "photoUrl": "https://lh3.googleusercontent.com/a-/AOh14GhqiajTdRS6NXELnqFzS3NNM3uxy6nUDGSMCjvAjw=s64",
      "userId": "05248840544598202773"
     },
     "user_tz": -120
    },
    "id": "9jh8ldKpgHk-",
    "outputId": "12616465-702a-484b-fdb3-ed7c69e9daaa"
   },
   "outputs": [
    {
     "data": {
      "text/html": [
       "\n",
       "<div id=\"altair-viz-eeb60bfa0e4a4b2984dfd68301cd891a\"></div>\n",
       "<script type=\"text/javascript\">\n",
       "  (function(spec, embedOpt){\n",
       "    let outputDiv = document.currentScript.previousElementSibling;\n",
       "    if (outputDiv.id !== \"altair-viz-eeb60bfa0e4a4b2984dfd68301cd891a\") {\n",
       "      outputDiv = document.getElementById(\"altair-viz-eeb60bfa0e4a4b2984dfd68301cd891a\");\n",
       "    }\n",
       "    const paths = {\n",
       "      \"vega\": \"https://cdn.jsdelivr.net/npm//vega@5?noext\",\n",
       "      \"vega-lib\": \"https://cdn.jsdelivr.net/npm//vega-lib?noext\",\n",
       "      \"vega-lite\": \"https://cdn.jsdelivr.net/npm//vega-lite@4.8.1?noext\",\n",
       "      \"vega-embed\": \"https://cdn.jsdelivr.net/npm//vega-embed@6?noext\",\n",
       "    };\n",
       "\n",
       "    function loadScript(lib) {\n",
       "      return new Promise(function(resolve, reject) {\n",
       "        var s = document.createElement('script');\n",
       "        s.src = paths[lib];\n",
       "        s.async = true;\n",
       "        s.onload = () => resolve(paths[lib]);\n",
       "        s.onerror = () => reject(`Error loading script: ${paths[lib]}`);\n",
       "        document.getElementsByTagName(\"head\")[0].appendChild(s);\n",
       "      });\n",
       "    }\n",
       "\n",
       "    function showError(err) {\n",
       "      outputDiv.innerHTML = `<div class=\"error\" style=\"color:red;\">${err}</div>`;\n",
       "      throw err;\n",
       "    }\n",
       "\n",
       "    function displayChart(vegaEmbed) {\n",
       "      vegaEmbed(outputDiv, spec, embedOpt)\n",
       "        .catch(err => showError(`Javascript Error: ${err.message}<br>This usually means there's a typo in your chart specification. See the javascript console for the full traceback.`));\n",
       "    }\n",
       "\n",
       "    if(typeof define === \"function\" && define.amd) {\n",
       "      requirejs.config({paths});\n",
       "      require([\"vega-embed\"], displayChart, err => showError(`Error loading script: ${err.message}`));\n",
       "    } else if (typeof vegaEmbed === \"function\") {\n",
       "      displayChart(vegaEmbed);\n",
       "    } else {\n",
       "      loadScript(\"vega\")\n",
       "        .then(() => loadScript(\"vega-lite\"))\n",
       "        .then(() => loadScript(\"vega-embed\"))\n",
       "        .catch(showError)\n",
       "        .then(() => displayChart(vegaEmbed));\n",
       "    }\n",
       "  })({\"config\": {\"view\": {\"continuousWidth\": 400, \"continuousHeight\": 300}}, \"data\": {\"name\": \"data-a8481976f7f8e8019e51aeecae486214\"}, \"mark\": \"bar\", \"encoding\": {\"tooltip\": [{\"type\": \"quantitative\", \"field\": \"new_deaths\"}, {\"type\": \"quantitative\", \"field\": \"new_cases_per_million\"}], \"x\": {\"type\": \"nominal\", \"field\": \"continent\"}, \"y\": {\"type\": \"quantitative\", \"field\": \"new_cases\"}}, \"height\": 200, \"width\": 200, \"$schema\": \"https://vega.github.io/schema/vega-lite/v4.8.1.json\", \"datasets\": {\"data-a8481976f7f8e8019e51aeecae486214\": [{\"continent\": \"Africa\", \"total_cases\": 116586970.0, \"new_cases\": 1528213.0, \"new_cases_smoothed\": 1506343.9119999951, \"total_deaths\": 2776242.0, \"new_deaths\": 36828.0, \"new_deaths_smoothed\": 36349.507999999085, \"total_cases_per_million\": 6793252.836999945, \"new_cases_per_million\": 87679.03599999957, \"new_cases_smoothed_per_million\": 86052.83500000006, \"total_deaths_per_million\": 112211.03399999914, \"new_deaths_per_million\": 1458.8470000000018, \"new_deaths_smoothed_per_million\": 1430.0340000000024, \"new_tests\": 11562366.0, \"total_tests\": 903730267.0, \"total_tests_per_thousand\": 25956.345000000034, \"new_tests_per_thousand\": 355.8250000000006, \"new_tests_smoothed\": 12066415.0, \"new_tests_smoothed_per_thousand\": 368.4239999999993, \"tests_per_case\": 200656.55999999974, \"positive_rate\": 267.32699999999807, \"stringency_index\": 623349.530000008, \"population\": 305967652460.0, \"population_density\": 1117749.1179999951, \"median_age\": 242725.80000001407, \"aged_65_older\": 41660.06399999893, \"aged_70_older\": 24992.10100000138, \"gdp_per_capita\": 62091820.66899947, \"extreme_poverty\": 280471.4000000114, \"cardiovasc_death_rate\": 3227932.506999888, \"diabetes_prevalence\": 63932.349999998114, \"female_smokers\": 19052.699999999906, \"male_smokers\": 207556.30000000822, \"handwashing_facilities\": 243831.29100001074, \"hospital_beds_per_thousand\": 12624.180000000031, \"life_expectancy\": 733077.629999952, \"human_development_index\": 6040.869999999565}, {\"continent\": \"Asia\", \"total_cases\": 704024299.0, \"new_cases\": 11337018.0, \"new_cases_smoothed\": 11016295.23199992, \"total_deaths\": 15012011.0, \"new_deaths\": 205231.0, \"new_deaths_smoothed\": 200217.09300000322, \"total_cases_per_million\": 25406708.93500012, \"new_cases_per_million\": 314848.720999999, \"new_cases_smoothed_per_million\": 307417.2830000003, \"total_deaths_per_million\": 230849.07699999577, \"new_deaths_per_million\": 2925.6810000000232, \"new_deaths_smoothed_per_million\": 2851.5309999999836, \"new_tests\": 139969319.0, \"total_tests\": 8500853032.0, \"total_tests_per_thousand\": 304884.6890000011, \"new_tests_per_thousand\": 3753.1689999999894, \"new_tests_smoothed\": 145355515.0, \"new_tests_smoothed_per_thousand\": 4424.997999999986, \"tests_per_case\": 1020535.2109999999, \"positive_rate\": 331.06299999999453, \"stringency_index\": 612339.2199999965, \"population\": 1261928577505.0, \"population_density\": 5388523.6710003065, \"median_age\": 355604.79999999475, \"aged_65_older\": 73463.40700000478, \"aged_70_older\": 47620.61499999842, \"gdp_per_capita\": 258387024.8690066, \"extreme_poverty\": 36837.40000000018, \"cardiovasc_death_rate\": 3278638.258999909, \"diabetes_prevalence\": 105263.30000000543, \"female_smokers\": 46263.70000000185, \"male_smokers\": 382875.0000000295, \"handwashing_facilities\": 434879.3390000288, \"hospital_beds_per_thousand\": 31265.81999999992, \"life_expectancy\": 865783.6399999462, \"human_development_index\": 8278.889999999696}, {\"continent\": \"Europe\", \"total_cases\": 486929312.0, \"new_cases\": 5502249.0, \"new_cases_smoothed\": 5270193.103000017, \"total_deaths\": 33336725.0, \"new_deaths\": 227041.0, \"new_deaths_smoothed\": 224816.17499999775, \"total_cases_per_million\": 37464602.83999966, \"new_cases_per_million\": 392540.3600000028, \"new_cases_smoothed_per_million\": 374569.7710000015, \"total_deaths_per_million\": 1669018.4049999919, \"new_deaths_per_million\": 11704.103999999968, \"new_deaths_smoothed_per_million\": 11568.38299999987, \"new_tests\": 119770378.0, \"total_tests\": 9024671322.0, \"total_tests_per_thousand\": 564482.3010000014, \"new_tests_per_thousand\": 7324.455000000016, \"new_tests_smoothed\": 149075772.0, \"new_tests_smoothed_per_thousand\": 7993.767000000007, \"tests_per_case\": 984902.4359999986, \"positive_rate\": 217.63599999999803, \"stringency_index\": 475139.23999999743, \"population\": 201750700783.0, \"population_density\": 8011748.313000213, \"median_age\": 433826.19999999413, \"aged_65_older\": 183498.1379999955, \"aged_70_older\": 119447.3310000019, \"gdp_per_capita\": 373856854.93001163, \"extreme_poverty\": 7142.799999999789, \"cardiovasc_death_rate\": 2350490.599999976, \"diabetes_prevalence\": 72474.30999999573, \"female_smokers\": 239430.2999999926, \"male_smokers\": 357987.8000000322, \"handwashing_facilities\": 60927.92699999934, \"hospital_beds_per_thousand\": 57318.5600000022, \"life_expectancy\": 968868.8700000511, \"human_development_index\": 9322.715999999946}, {\"continent\": \"North America\", \"total_cases\": 769956775.0, \"new_cases\": 9060729.0, \"new_cases_smoothed\": 8898424.917999985, \"total_deaths\": 32517146.0, \"new_deaths\": 314021.0, \"new_deaths_smoothed\": 310897.83899999846, \"total_cases_per_million\": 16201939.253000095, \"new_cases_per_million\": 256511.20000000022, \"new_cases_smoothed_per_million\": 249855.00799999892, \"total_deaths_per_million\": 487757.8580000034, \"new_deaths_per_million\": 5453.124000000021, \"new_deaths_smoothed_per_million\": 5317.033999999994, \"new_tests\": 130269780.0, \"total_tests\": 9644872591.0, \"total_tests_per_thousand\": 65233.010000000075, \"new_tests_per_thousand\": 884.8659999999992, \"new_tests_smoothed\": 128058680.0, \"new_tests_smoothed_per_thousand\": 879.3079999999986, \"tests_per_case\": 64567.50299999994, \"positive_rate\": 202.85299999999975, \"stringency_index\": 335332.1899999972, \"population\": 160447816004.0, \"population_density\": 1848973.4049999167, \"median_age\": 179851.29999999906, \"aged_65_older\": 54336.22100000103, \"aged_70_older\": 34051.8159999993, \"gdp_per_capita\": 129443142.88599366, \"extreme_poverty\": 13354.500000000507, \"cardiovasc_death_rate\": 1096936.7749999885, \"diabetes_prevalence\": 71519.70999999755, \"female_smokers\": 22170.499999999483, \"male_smokers\": 61484.39999999962, \"handwashing_facilities\": 218820.5569999935, \"hospital_beds_per_thousand\": 11517.319999999847, \"life_expectancy\": 584018.2099999759, \"human_development_index\": 3773.148000000006}, {\"continent\": \"Oceania\", \"total_cases\": 3144243.0, \"new_cases\": 34400.0, \"new_cases_smoothed\": 33865.211999999745, \"total_deaths\": 60987.0, \"new_deaths\": 995.0, \"new_deaths_smoothed\": 985.0440000000001, \"total_cases_per_million\": 1224501.9750000052, \"new_cases_per_million\": 27499.081999999973, \"new_cases_smoothed_per_million\": 25281.398999999972, \"total_deaths_per_million\": 21715.963999999858, \"new_deaths_per_million\": 435.94200000000035, \"new_deaths_smoothed_per_million\": 396.9010000000006, \"new_tests\": 7080271.0, \"total_tests\": 589340889.0, \"total_tests_per_thousand\": 38213.74099999998, \"new_tests_per_thousand\": 454.9860000000004, \"new_tests_smoothed\": 8550621.0, \"new_tests_smoothed_per_thousand\": 511.6019999999999, \"tests_per_case\": 790462.3670000001, \"positive_rate\": 2.3429999999999898, \"stringency_index\": 63553.150000000445, \"population\": 10734756002.0, \"population_density\": 125604.09600000159, \"median_age\": 52851.10000000079, \"aged_65_older\": 16544.720000000063, \"aged_70_older\": 10207.274999999863, \"gdp_per_capita\": 25728755.63999931, \"extreme_poverty\": 493.7999999999966, \"cardiovasc_death_rate\": 383883.2920000039, \"diabetes_prevalence\": 24565.240000000907, \"female_smokers\": 15133.499999999869, \"male_smokers\": 28081.799999999967, \"handwashing_facilities\": 0.0, \"hospital_beds_per_thousand\": 2398.4999999999923, \"life_expectancy\": 138959.32000000108, \"human_development_index\": 819.4679999999963}, {\"continent\": \"South America\", \"total_cases\": 589000674.0, \"new_cases\": 8384949.0, \"new_cases_smoothed\": 8231029.457000004, \"total_deaths\": 20146454.0, \"new_deaths\": 264058.0, \"new_deaths_smoothed\": 259760.22600000122, \"total_cases_per_million\": 11173098.782000028, \"new_cases_per_million\": 154645.0450000008, \"new_cases_smoothed_per_million\": 150992.11299999975, \"total_deaths_per_million\": 362346.0760000011, \"new_deaths_per_million\": 5222.338999999972, \"new_deaths_smoothed_per_million\": 5124.239000000008, \"new_tests\": 10564299.0, \"total_tests\": 751640126.0, \"total_tests_per_thousand\": 31426.34299999999, \"new_tests_per_thousand\": 453.0680000000005, \"new_tests_smoothed\": 14654500.0, \"new_tests_smoothed_per_thousand\": 475.823999999999, \"tests_per_case\": 48365.05899999998, \"positive_rate\": 180.21299999999934, \"stringency_index\": 199262.46999999936, \"population\": 109178708409.0, \"population_density\": 69258.8059999986, \"median_age\": 82012.70000000141, \"aged_65_older\": 22442.640000000392, \"aged_70_older\": 14047.905000000226, \"gdp_per_capita\": 37435178.720000334, \"extreme_poverty\": 6034.300000000167, \"cardiovasc_death_rate\": 500306.1009999959, \"diabetes_prevalence\": 20886.44000000063, \"female_smokers\": 22279.700000000485, \"male_smokers\": 44528.49999999995, \"handwashing_facilities\": 89035.96299999865, \"hospital_beds_per_thousand\": 5642.240000000227, \"life_expectancy\": 219004.43999999342, \"human_development_index\": 2037.614999999987}]}}, {\"mode\": \"vega-lite\"});\n",
       "</script>"
      ],
      "text/plain": [
       "alt.Chart(...)"
      ]
     },
     "execution_count": 23,
     "metadata": {},
     "output_type": "execute_result"
    }
   ],
   "source": [
    "alt.Chart(data).mark_bar().encode(\n",
    "    x='continent', \n",
    "    y='new_cases',\n",
    "    tooltip=['new_deaths', 'new_cases_per_million']\n",
    ").properties(\n",
    "    width=200,\n",
    "    height=200\n",
    ")"
   ]
  },
  {
   "cell_type": "markdown",
   "metadata": {
    "colab_type": "text",
    "id": "OQ-vH5EFGZTI"
   },
   "source": [
    "This is admittedly still a very simple chart, but it gets the job done.\n",
    "\n",
    "Altair can be used to create a wide range of static and interactive visualizations—have a look at their [gallery](https://altair-viz.github.io/gallery/index.html) for some inspiration!"
   ]
  },
  {
   "cell_type": "markdown",
   "metadata": {
    "colab_type": "text",
    "id": "PyJgW6U-DtiX"
   },
   "source": [
    "## Sources\n",
    "- [Pandas Tutorial: DataFrames in Python - DataCamp](https://www.datacamp.com/community/tutorials/pandas-tutorial-dataframe-python)\n",
    "- [The ElementTree XML API](https://docs.python.org/2/library/xml.etree.elementtree.html)\n",
    "- [Where do Mayors Come From? Querying Wikidata with Python and SPARQL - Towards Data Science](https://towardsdatascience.com/where-do-mayors-come-from-querying-wikidata-with-python-and-sparql-91f3c0af22e2)\n",
    "- [External data: Local Files, Drive, Sheets, and Cloud Storage - Colaboratory](https://colab.research.google.com/notebooks/io.ipynb)\n",
    "- [Loading data: Drive, Sheets, and Google Cloud Storage](https://colab.research.google.com/notebooks/io.ipynb) \n",
    "- [Examining Data Using Pandas | Linux Journal](https://www.linuxjournal.com/content/examining-data-using-pandas)\n",
    "- [Beautiful Soup Documentation](https://www.crummy.com/software/BeautifulSoup/bs4/doc/)"
   ]
  }
 ],
 "metadata": {
  "colab": {
   "collapsed_sections": [],
   "name": "infovis1start.ipynb",
   "provenance": [],
   "toc_visible": true
  },
  "kernelspec": {
   "display_name": "Python 3",
   "language": "python",
   "name": "python3"
  },
  "language_info": {
   "codemirror_mode": {
    "name": "ipython",
    "version": 3
   },
   "file_extension": ".py",
   "mimetype": "text/x-python",
   "name": "python",
   "nbconvert_exporter": "python",
   "pygments_lexer": "ipython3",
   "version": "3.8.2"
  },
  "nteract": {
   "version": "0.22.0"
  }
 },
 "nbformat": 4,
 "nbformat_minor": 4
}

{
 "cells": [
  {
   "cell_type": "code",
   "execution_count": 2,
   "metadata": {},
   "outputs": [],
   "source": [
    "import altair as alt\n",
    "import pandas as pd\n",
    "import numpy as np"
   ]
  },
  {
   "cell_type": "code",
   "execution_count": 57,
   "metadata": {},
   "outputs": [],
   "source": [
    "data = pd.DataFrame({\n",
    "    'x': range(18),\n",
    "    'Fun': np.array([1]*18),\n",
    "    'Learned things': (np.array(range(18))**2)/289\n",
    "}).melt('x')"
   ]
  },
  {
   "cell_type": "code",
   "execution_count": 58,
   "metadata": {},
   "outputs": [
    {
     "data": {
      "text/html": [
       "\n",
       "<div id=\"altair-viz-994b29ac91974223b2265d2a8f82b45c\"></div>\n",
       "<script type=\"text/javascript\">\n",
       "  (function(spec, embedOpt){\n",
       "    let outputDiv = document.currentScript.previousElementSibling;\n",
       "    if (outputDiv.id !== \"altair-viz-994b29ac91974223b2265d2a8f82b45c\") {\n",
       "      outputDiv = document.getElementById(\"altair-viz-994b29ac91974223b2265d2a8f82b45c\");\n",
       "    }\n",
       "    const paths = {\n",
       "      \"vega\": \"https://cdn.jsdelivr.net/npm//vega@5?noext\",\n",
       "      \"vega-lib\": \"https://cdn.jsdelivr.net/npm//vega-lib?noext\",\n",
       "      \"vega-lite\": \"https://cdn.jsdelivr.net/npm//vega-lite@4.8.1?noext\",\n",
       "      \"vega-embed\": \"https://cdn.jsdelivr.net/npm//vega-embed@6?noext\",\n",
       "    };\n",
       "\n",
       "    function loadScript(lib) {\n",
       "      return new Promise(function(resolve, reject) {\n",
       "        var s = document.createElement('script');\n",
       "        s.src = paths[lib];\n",
       "        s.async = true;\n",
       "        s.onload = () => resolve(paths[lib]);\n",
       "        s.onerror = () => reject(`Error loading script: ${paths[lib]}`);\n",
       "        document.getElementsByTagName(\"head\")[0].appendChild(s);\n",
       "      });\n",
       "    }\n",
       "\n",
       "    function showError(err) {\n",
       "      outputDiv.innerHTML = `<div class=\"error\" style=\"color:red;\">${err}</div>`;\n",
       "      throw err;\n",
       "    }\n",
       "\n",
       "    function displayChart(vegaEmbed) {\n",
       "      vegaEmbed(outputDiv, spec, embedOpt)\n",
       "        .catch(err => showError(`Javascript Error: ${err.message}<br>This usually means there's a typo in your chart specification. See the javascript console for the full traceback.`));\n",
       "    }\n",
       "\n",
       "    if(typeof define === \"function\" && define.amd) {\n",
       "      requirejs.config({paths});\n",
       "      require([\"vega-embed\"], displayChart, err => showError(`Error loading script: ${err.message}`));\n",
       "    } else if (typeof vegaEmbed === \"function\") {\n",
       "      displayChart(vegaEmbed);\n",
       "    } else {\n",
       "      loadScript(\"vega\")\n",
       "        .then(() => loadScript(\"vega-lite\"))\n",
       "        .then(() => loadScript(\"vega-embed\"))\n",
       "        .catch(showError)\n",
       "        .then(() => displayChart(vegaEmbed));\n",
       "    }\n",
       "  })({\"config\": {\"view\": {\"continuousWidth\": 400, \"continuousHeight\": 300}}, \"data\": {\"name\": \"data-5f2ad56b72367a3bf0c0f3b2db8d9b6b\"}, \"mark\": \"line\", \"encoding\": {\"color\": {\"type\": \"nominal\", \"field\": \"variable\"}, \"x\": {\"type\": \"quantitative\", \"field\": \"x\"}, \"y\": {\"type\": \"quantitative\", \"axis\": {\"format\": \"%\"}, \"field\": \"value\", \"scale\": {\"clamp\": true, \"domain\": [0, 1]}}}, \"$schema\": \"https://vega.github.io/schema/vega-lite/v4.8.1.json\", \"datasets\": {\"data-5f2ad56b72367a3bf0c0f3b2db8d9b6b\": [{\"x\": 0, \"variable\": \"Fun\", \"value\": 1.0}, {\"x\": 1, \"variable\": \"Fun\", \"value\": 1.0}, {\"x\": 2, \"variable\": \"Fun\", \"value\": 1.0}, {\"x\": 3, \"variable\": \"Fun\", \"value\": 1.0}, {\"x\": 4, \"variable\": \"Fun\", \"value\": 1.0}, {\"x\": 5, \"variable\": \"Fun\", \"value\": 1.0}, {\"x\": 6, \"variable\": \"Fun\", \"value\": 1.0}, {\"x\": 7, \"variable\": \"Fun\", \"value\": 1.0}, {\"x\": 8, \"variable\": \"Fun\", \"value\": 1.0}, {\"x\": 9, \"variable\": \"Fun\", \"value\": 1.0}, {\"x\": 10, \"variable\": \"Fun\", \"value\": 1.0}, {\"x\": 11, \"variable\": \"Fun\", \"value\": 1.0}, {\"x\": 12, \"variable\": \"Fun\", \"value\": 1.0}, {\"x\": 13, \"variable\": \"Fun\", \"value\": 1.0}, {\"x\": 14, \"variable\": \"Fun\", \"value\": 1.0}, {\"x\": 15, \"variable\": \"Fun\", \"value\": 1.0}, {\"x\": 16, \"variable\": \"Fun\", \"value\": 1.0}, {\"x\": 17, \"variable\": \"Fun\", \"value\": 1.0}, {\"x\": 0, \"variable\": \"Learned things\", \"value\": 0.0}, {\"x\": 1, \"variable\": \"Learned things\", \"value\": 0.0034602076124567475}, {\"x\": 2, \"variable\": \"Learned things\", \"value\": 0.01384083044982699}, {\"x\": 3, \"variable\": \"Learned things\", \"value\": 0.031141868512110725}, {\"x\": 4, \"variable\": \"Learned things\", \"value\": 0.05536332179930796}, {\"x\": 5, \"variable\": \"Learned things\", \"value\": 0.08650519031141868}, {\"x\": 6, \"variable\": \"Learned things\", \"value\": 0.1245674740484429}, {\"x\": 7, \"variable\": \"Learned things\", \"value\": 0.1695501730103806}, {\"x\": 8, \"variable\": \"Learned things\", \"value\": 0.22145328719723184}, {\"x\": 9, \"variable\": \"Learned things\", \"value\": 0.28027681660899656}, {\"x\": 10, \"variable\": \"Learned things\", \"value\": 0.3460207612456747}, {\"x\": 11, \"variable\": \"Learned things\", \"value\": 0.4186851211072664}, {\"x\": 12, \"variable\": \"Learned things\", \"value\": 0.4982698961937716}, {\"x\": 13, \"variable\": \"Learned things\", \"value\": 0.5847750865051903}, {\"x\": 14, \"variable\": \"Learned things\", \"value\": 0.6782006920415224}, {\"x\": 15, \"variable\": \"Learned things\", \"value\": 0.7785467128027682}, {\"x\": 16, \"variable\": \"Learned things\", \"value\": 0.8858131487889274}, {\"x\": 17, \"variable\": \"Learned things\", \"value\": 1.0}]}}, {\"mode\": \"vega-lite\"});\n",
       "</script>"
      ],
      "text/plain": [
       "alt.Chart(...)"
      ]
     },
     "execution_count": 58,
     "metadata": {},
     "output_type": "execute_result"
    }
   ],
   "source": [
    "alt.Chart(data).mark_line().encode(\n",
    "    x='x',\n",
    "    y=alt.Y('value:Q', axis=alt.Axis(format='%'), scale=alt.Scale(domain=[0, 1], clamp=True)),\n",
    "    color='variable'\n",
    ")\n"
   ]
  },
  {
   "cell_type": "code",
   "execution_count": null,
   "metadata": {},
   "outputs": [],
   "source": []
  },
  {
   "cell_type": "code",
   "execution_count": null,
   "metadata": {},
   "outputs": [],
   "source": []
  }
 ],
 "metadata": {
  "kernelspec": {
   "display_name": "Python 3",
   "language": "python",
   "name": "python3"
  },
  "language_info": {
   "codemirror_mode": {
    "name": "ipython",
    "version": 3
   },
   "file_extension": ".py",
   "mimetype": "text/x-python",
   "name": "python",
   "nbconvert_exporter": "python",
   "pygments_lexer": "ipython3",
   "version": "3.8.2"
  }
 },
 "nbformat": 4,
 "nbformat_minor": 4
}
